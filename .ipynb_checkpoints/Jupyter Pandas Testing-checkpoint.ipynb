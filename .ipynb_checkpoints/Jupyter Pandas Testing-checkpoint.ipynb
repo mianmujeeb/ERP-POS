{
 "cells": [
  {
   "cell_type": "code",
   "execution_count": 3,
   "id": "26748e6c",
   "metadata": {},
   "outputs": [],
   "source": [
    "import pandas as pd"
   ]
  },
  {
   "cell_type": "code",
   "execution_count": 4,
   "id": "37403841",
   "metadata": {},
   "outputs": [],
   "source": [
    "file = \"test.xlsx\""
   ]
  },
  {
   "cell_type": "code",
   "execution_count": 7,
   "id": "fdbf534a",
   "metadata": {},
   "outputs": [
    {
     "ename": "TypeError",
     "evalue": "read_excel() got an unexpected keyword argument 'sheet'",
     "output_type": "error",
     "traceback": [
      "\u001b[1;31m---------------------------------------------------------------------------\u001b[0m",
      "\u001b[1;31mTypeError\u001b[0m                                 Traceback (most recent call last)",
      "\u001b[1;32m~\\AppData\\Local\\Temp\\ipykernel_119892\\1538875188.py\u001b[0m in \u001b[0;36m<module>\u001b[1;34m\u001b[0m\n\u001b[1;32m----> 1\u001b[1;33m \u001b[0mfile\u001b[0m \u001b[1;33m=\u001b[0m \u001b[0mpd\u001b[0m\u001b[1;33m.\u001b[0m\u001b[0mread_excel\u001b[0m\u001b[1;33m(\u001b[0m\u001b[0mfile\u001b[0m\u001b[1;33m,\u001b[0m \u001b[0msheet\u001b[0m\u001b[1;33m=\u001b[0m\u001b[1;34m\"Week 1\"\u001b[0m\u001b[1;33m)\u001b[0m\u001b[1;33m\u001b[0m\u001b[1;33m\u001b[0m\u001b[0m\n\u001b[0m",
      "\u001b[1;32mD:\\Django\\Django Projects\\ERP-POS\\venv\\lib\\site-packages\\pandas\\util\\_decorators.py\u001b[0m in \u001b[0;36mwrapper\u001b[1;34m(*args, **kwargs)\u001b[0m\n\u001b[0;32m    309\u001b[0m                     \u001b[0mstacklevel\u001b[0m\u001b[1;33m=\u001b[0m\u001b[0mstacklevel\u001b[0m\u001b[1;33m,\u001b[0m\u001b[1;33m\u001b[0m\u001b[1;33m\u001b[0m\u001b[0m\n\u001b[0;32m    310\u001b[0m                 )\n\u001b[1;32m--> 311\u001b[1;33m             \u001b[1;32mreturn\u001b[0m \u001b[0mfunc\u001b[0m\u001b[1;33m(\u001b[0m\u001b[1;33m*\u001b[0m\u001b[0margs\u001b[0m\u001b[1;33m,\u001b[0m \u001b[1;33m**\u001b[0m\u001b[0mkwargs\u001b[0m\u001b[1;33m)\u001b[0m\u001b[1;33m\u001b[0m\u001b[1;33m\u001b[0m\u001b[0m\n\u001b[0m\u001b[0;32m    312\u001b[0m \u001b[1;33m\u001b[0m\u001b[0m\n\u001b[0;32m    313\u001b[0m         \u001b[1;32mreturn\u001b[0m \u001b[0mwrapper\u001b[0m\u001b[1;33m\u001b[0m\u001b[1;33m\u001b[0m\u001b[0m\n",
      "\u001b[1;31mTypeError\u001b[0m: read_excel() got an unexpected keyword argument 'sheet'"
     ]
    }
   ],
   "source": [
    "file = pd.read_excel(file, sheets=\"Week 1\")"
   ]
  },
  {
   "cell_type": "code",
   "execution_count": 6,
   "id": "0f438702",
   "metadata": {},
   "outputs": [
    {
     "name": "stdout",
     "output_type": "stream",
     "text": [
      "                        Particulars HAMILTON LC LLC  Unnamed: 2  \\\n",
      "0                               NaN          Amount  Percentage   \n",
      "1                         Net Sales        18536.02           1   \n",
      "2                     Grubhub Sales               0           0   \n",
      "3                       Total Sales        18536.02           1   \n",
      "4           PPP/EIDL/Federal Income               0           0   \n",
      "..                              ...             ...         ...   \n",
      "87  Earning Before Interest & Depri     3614.385523    0.194993   \n",
      "88                 Interest Expense      197.010023    0.010628   \n",
      "89      Earning Before Depriciation       3417.3755    0.184364   \n",
      "90                   Debt Repayment      538.245518    0.029038   \n",
      "91    Proceeds after Debt Repayment     2879.129982    0.155326   \n",
      "\n",
      "   RISING SUN LLC - 3401-0003  Unnamed: 4 LATIMER LLC - 3401-0004  Unnamed: 6  \\\n",
      "0                      Amount  Percentage                  Amount  Percentage   \n",
      "1                    11593.71           1                 7527.23           1   \n",
      "2                           0           0                       0           0   \n",
      "3                    11593.71           1                 7527.23           1   \n",
      "4                           0           0                       0           0   \n",
      "..                        ...         ...                     ...         ...   \n",
      "87               -1138.348405   -0.098187             -400.518933   -0.053209   \n",
      "88                 141.950402    0.012244              104.327704     0.01386   \n",
      "89               -1280.298807    -0.11043             -504.846637   -0.067069   \n",
      "90                 387.818682    0.033451              285.030772    0.037867   \n",
      "91               -1668.117488   -0.143881              -789.87741   -0.104936   \n",
      "\n",
      "   BROAD STREET LLC - 3401-00005  Unnamed: 8 FRANKFORD LC LLC - 3401-00006  \\\n",
      "0                         Amount  Percentage                        Amount   \n",
      "1                       10813.99           1                      10303.94   \n",
      "2                              0           0                             0   \n",
      "3                       10813.99           1                      10303.94   \n",
      "4                              0           0                             0   \n",
      "..                           ...         ...                           ...   \n",
      "87                   -137.733274   -0.012737                    -71.911287   \n",
      "88                    148.730375    0.013754                    124.762954   \n",
      "89                    -286.46365    -0.02649                   -196.674241   \n",
      "90                    406.342056    0.037576                    340.861342   \n",
      "91                   -692.805706   -0.064066                   -537.535583   \n",
      "\n",
      "    ... Foulk Rd DE LC LLC Unnamed: 60 Kirkwood HWY DE LC LLC Unnamed: 62  \\\n",
      "0   ...             Amount  Percentage                 Amount  Percentage   \n",
      "1   ...            3018.32           1                      0           0   \n",
      "2   ...                  0           0                      0           0   \n",
      "3   ...            3018.32           1                      0           0   \n",
      "4   ...                  0           0                      0           0   \n",
      "..  ...                ...         ...                    ...         ...   \n",
      "87  ...       -4994.215208   -1.654634           -1269.063179           0   \n",
      "88  ...                  0           0                      0           0   \n",
      "89  ...       -4994.215208   -1.654634           -1269.063179           0   \n",
      "90  ...                  0           0                      0           0   \n",
      "91  ...       -4994.215208   -1.654634           -1269.063179           0   \n",
      "\n",
      "   Delran NJ LC LLC Unnamed: 64 Commerce Circle LC LLC Unnamed: 66  \\\n",
      "0            Amount  Percentage                 Amount  Percentage   \n",
      "1           5652.02           1                 8614.8           1   \n",
      "2                 0           0                      0           0   \n",
      "3           5652.02           1                 8614.8           1   \n",
      "4                 0           0                      0           0   \n",
      "..              ...         ...                    ...         ...   \n",
      "87     -3338.220531   -0.590624              -2640.592   -0.306518   \n",
      "88       216.483224    0.038302             155.667579     0.01807   \n",
      "89     -3554.703755   -0.628926           -2796.259579   -0.324588   \n",
      "90       610.917217    0.108088              444.76451    0.051628   \n",
      "91     -4165.620973   -0.737015           -3241.024089   -0.376216   \n",
      "\n",
      "    Consolidated Unnamed: 68  \n",
      "0         Amount  Percentage  \n",
      "1      375505.66           1  \n",
      "2              0           0  \n",
      "3      375505.66           1  \n",
      "4              0           0  \n",
      "..           ...         ...  \n",
      "87   9102.573849    0.024241  \n",
      "88   4810.362935     0.01281  \n",
      "89   4292.210914     0.01143  \n",
      "90  13181.195687    0.035103  \n",
      "91  -8888.984774   -0.023672  \n",
      "\n",
      "[92 rows x 69 columns]\n"
     ]
    }
   ],
   "source": [
    "print(file)"
   ]
  }
 ],
 "metadata": {
  "kernelspec": {
   "display_name": "Python 3 (ipykernel)",
   "language": "python",
   "name": "python3"
  },
  "language_info": {
   "codemirror_mode": {
    "name": "ipython",
    "version": 3
   },
   "file_extension": ".py",
   "mimetype": "text/x-python",
   "name": "python",
   "nbconvert_exporter": "python",
   "pygments_lexer": "ipython3",
   "version": "3.7.7"
  }
 },
 "nbformat": 4,
 "nbformat_minor": 5
}
